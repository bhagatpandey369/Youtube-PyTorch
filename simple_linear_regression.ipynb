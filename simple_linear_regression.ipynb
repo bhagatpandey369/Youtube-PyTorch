{
  "nbformat": 4,
  "nbformat_minor": 0,
  "metadata": {
    "colab": {
      "provenance": [],
      "authorship_tag": "ABX9TyPKF7PnWqjJS10RaaSfmufJ",
      "include_colab_link": true
    },
    "kernelspec": {
      "name": "python3",
      "display_name": "Python 3"
    },
    "language_info": {
      "name": "python"
    }
  },
  "cells": [
    {
      "cell_type": "markdown",
      "metadata": {
        "id": "view-in-github",
        "colab_type": "text"
      },
      "source": [
        "<a href=\"https://colab.research.google.com/github/bhagatpandey369/Youtube-PyTorch/blob/main/simple_linear_regression.ipynb\" target=\"_parent\"><img src=\"https://colab.research.google.com/assets/colab-badge.svg\" alt=\"Open In Colab\"/></a>"
      ]
    },
    {
      "cell_type": "code",
      "execution_count": 1,
      "metadata": {
        "id": "3PhyM0tbY1Pd"
      },
      "outputs": [],
      "source": [
        "import torch\n",
        "import torch.nn as nn"
      ]
    },
    {
      "cell_type": "code",
      "source": [
        "from sklearn.datasets import make_regression\n",
        "import matplotlib.pyplot as plt"
      ],
      "metadata": {
        "id": "z_RFgXs8ZJMT"
      },
      "execution_count": 35,
      "outputs": []
    },
    {
      "cell_type": "code",
      "source": [
        "data = make_regression(n_samples=2000,\n",
        "                       n_features=10,\n",
        "                       n_informative=8,\n",
        "                       n_targets=1,\n",
        "                       random_state=42)"
      ],
      "metadata": {
        "id": "xY__lNuVZJP_"
      },
      "execution_count": 3,
      "outputs": []
    },
    {
      "cell_type": "code",
      "source": [
        "data"
      ],
      "metadata": {
        "colab": {
          "base_uri": "https://localhost:8080/"
        },
        "id": "Mg_7gTLRZJVl",
        "outputId": "18403768-7346-4498-b5fc-08a83390a4e4"
      },
      "execution_count": 4,
      "outputs": [
        {
          "output_type": "execute_result",
          "data": {
            "text/plain": [
              "(array([[ 2.26583929e-01, -6.08628287e-01,  1.86506217e-01, ...,\n",
              "          1.96851926e-01,  7.37407862e-02,  1.18027714e-01],\n",
              "        [-2.81688321e-01, -2.28104684e-01,  4.78887827e-02, ...,\n",
              "          2.16347485e+00,  1.31705868e+00, -5.41294489e-01],\n",
              "        [ 1.13562059e+00,  3.78046260e-01, -8.64285262e-01, ...,\n",
              "         -3.88568220e-01,  2.45987199e+00, -1.12387841e+00],\n",
              "        ...,\n",
              "        [-1.16691780e+00,  7.24075051e-01, -8.56288124e-01, ...,\n",
              "         -3.86517688e-02,  2.01090304e+00,  1.71838504e-02],\n",
              "        [-2.25262642e-01, -1.71415367e-03, -1.43872010e+00, ...,\n",
              "          2.19664605e+00,  1.08953658e+00,  7.67479345e-01],\n",
              "        [-4.28145331e-01, -1.49440794e-02,  1.46010610e-01, ...,\n",
              "         -2.81212462e-01,  1.97257990e+00,  3.06696942e-01]]),\n",
              " array([ 151.55521022,   92.31877006,   23.93151652, ..., -261.78952978,\n",
              "         452.5863916 ,  168.97078665]))"
            ]
          },
          "metadata": {},
          "execution_count": 4
        }
      ]
    },
    {
      "cell_type": "code",
      "source": [
        "data[0].shape, data[1].shape"
      ],
      "metadata": {
        "colab": {
          "base_uri": "https://localhost:8080/"
        },
        "id": "V0tfPT5EZJjg",
        "outputId": "d6368ff8-d11d-4cbc-9b31-47aa1d053780"
      },
      "execution_count": 5,
      "outputs": [
        {
          "output_type": "execute_result",
          "data": {
            "text/plain": [
              "((2000, 10), (2000,))"
            ]
          },
          "metadata": {},
          "execution_count": 5
        }
      ]
    },
    {
      "cell_type": "code",
      "source": [
        "type(data[0]), type(data[1])"
      ],
      "metadata": {
        "colab": {
          "base_uri": "https://localhost:8080/"
        },
        "id": "7GUFL0VlaT-z",
        "outputId": "6ebe79ac-5272-4983-c826-b6abc927a89b"
      },
      "execution_count": 6,
      "outputs": [
        {
          "output_type": "execute_result",
          "data": {
            "text/plain": [
              "(numpy.ndarray, numpy.ndarray)"
            ]
          },
          "metadata": {},
          "execution_count": 6
        }
      ]
    },
    {
      "cell_type": "code",
      "source": [
        "train = torch.from_numpy(data[0]).float()\n",
        "target = torch.from_numpy(data[1]).unsqueeze(1).float()"
      ],
      "metadata": {
        "id": "h4KBT3H9aUCL"
      },
      "execution_count": 29,
      "outputs": []
    },
    {
      "cell_type": "code",
      "source": [
        "layer1 = nn.Linear(10, 1)"
      ],
      "metadata": {
        "id": "60gncWapaUwZ"
      },
      "execution_count": 30,
      "outputs": []
    },
    {
      "cell_type": "code",
      "source": [
        "loss_fn = nn.MSELoss()\n",
        "optimizer = torch.optim.SGD(layer1.parameters(), lr=0.01)"
      ],
      "metadata": {
        "id": "K8DmOizzaUzj"
      },
      "execution_count": 31,
      "outputs": []
    },
    {
      "cell_type": "code",
      "source": [
        "num_epochs = 100\n",
        "all_losses = []\n",
        "for epoch in range(num_epochs):\n",
        "  output = layer1(train)\n",
        "  loss = loss_fn(output,target)\n",
        "  all_losses.append(loss.detach().numpy())\n",
        "\n",
        "  optimizer.zero_grad()\n",
        "  loss.backward()\n",
        "  optimizer.step()\n",
        "\n",
        "\n",
        "\n"
      ],
      "metadata": {
        "id": "faCpVF6JaU2s"
      },
      "execution_count": 33,
      "outputs": []
    },
    {
      "cell_type": "code",
      "source": [
        "plt.plot(all_losses)"
      ],
      "metadata": {
        "colab": {
          "base_uri": "https://localhost:8080/",
          "height": 447
        },
        "id": "Pp9hc-HefLk7",
        "outputId": "4f16ce2b-06e4-469d-c8c6-e68faf25b124"
      },
      "execution_count": 36,
      "outputs": [
        {
          "output_type": "execute_result",
          "data": {
            "text/plain": [
              "[<matplotlib.lines.Line2D at 0x7d062ac872b0>]"
            ]
          },
          "metadata": {},
          "execution_count": 36
        },
        {
          "output_type": "display_data",
          "data": {
            "text/plain": [
              "<Figure size 640x480 with 1 Axes>"
            ],
            "image/png": "[encoded data removed]"
          },
          "metadata": {}
        }
      ]
    },
    {
      "cell_type": "code",
      "source": [
        "all_losses[-1]"
      ],
      "metadata": {
        "colab": {
          "base_uri": "https://localhost:8080/"
        },
        "id": "cQFwE2V6fLrM",
        "outputId": "1bf1ad1c-e351-4048-e6f9-e8af09d031f1"
      },
      "execution_count": 37,
      "outputs": [
        {
          "output_type": "execute_result",
          "data": {
            "text/plain": [
              "array(638.35925, dtype=float32)"
            ]
          },
          "metadata": {},
          "execution_count": 37
        }
      ]
    },
    {
      "cell_type": "code",
      "source": [],
      "metadata": {
        "id": "JKndADV_fLvF"
      },
      "execution_count": null,
      "outputs": []
    },
    {
      "cell_type": "code",
      "source": [],
      "metadata": {
        "id": "CkgXMDx6fLyv"
      },
      "execution_count": null,
      "outputs": []
    },
    {
      "cell_type": "code",
      "source": [],
      "metadata": {
        "id": "CvphJz1gfL2f"
      },
      "execution_count": null,
      "outputs": []
    }
  ]
}